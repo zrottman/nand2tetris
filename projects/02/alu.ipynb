{
 "cells": [
  {
   "cell_type": "code",
   "execution_count": 1,
   "id": "6904cafb",
   "metadata": {},
   "outputs": [],
   "source": [
    "MAX_BITS = 8\n",
    "\n",
    "def ALU_sim(x, y, zx, nx, zy, ny, f, no):\n",
    "    \n",
    "    print(\"{:<10}{:^10}{:10}{:^10}{:10}\\n\".format('', 'x', '', 'y', ''))\n",
    "    print(\"{:<10}{:<10}{:<10}{:<10}{:<10}\".format(\"INPUT:\", x, '=> ' + to_int(x), y, '=> ' + to_int(y)))\n",
    "    print(\"{:<10}{:^10}{:10}{:^10}{:10}\".format('', '|', '', '|', ''))\n",
    "    \n",
    "    if zx: x = zero_out(x)\n",
    "    zxstr = \"zx={}\".format(zx)\n",
    "    print(\"{:<10}{:<10}{:<10}{:^10}{:<10}\".format(zxstr, x, '=> ' + to_int(x), '|', ''))\n",
    "    print(\"{:<10}{:^10}{:10}{:^10}{:10}\".format('', '|', '', '|', ''))\n",
    "    \n",
    "    if nx: x = negate(x)\n",
    "    nxstr = \"nx={}\".format(nx)\n",
    "    print(\"{:<10}{:<10}{:<10}{:^10}{:<10}\".format(nxstr, x, '=> ' + to_int(x), '|', ''))\n",
    "    print(\"{:<10}{:^10}{:10}{:^10}{:10}\".format('', '|', '', '|', ''))\n",
    "    \n",
    "    if zy: y = zero_out(y)\n",
    "    zystr = \"zy={}\".format(zy)\n",
    "    print(\"{:<10}{:^10}{:<10}{:<10}{:<10}\".format(zystr, '|', '', y, '=> ' + to_int(y)))\n",
    "    print(\"{:<10}{:^10}{:10}{:^10}{:10}\".format('', '|', '', '|', ''))\n",
    "    \n",
    "    if ny: y = negate(y)\n",
    "    nystr = \"ny={}\".format(ny)\n",
    "    print(\"{:<10}{:^10}{:<10}{:<10}{:<10}\".format(nystr, '|', '', y, '=> ' + to_int(y)))\n",
    "    print(\"{:<10}{:^10}{:10}{:^10}{:10}\".format('', '|', '', '|', ''))\n",
    "    \n",
    "    print(\"{:<14}{}\".format('', '---------------------'))\n",
    "    print(\"{:<10}{:^30}\".format('', '|'))\n",
    "    print(\"{:<10}{:^30}\".format('', '|'))\n",
    "    \n",
    "    if f:\n",
    "        op = '+'\n",
    "        out = adder8(x, y)\n",
    "    else:\n",
    "        op = '&'\n",
    "        out = bitwise_and(x, y)\n",
    "\n",
    "\n",
    "    fstr = \"f: {}\".format(op)\n",
    "    print(\"{:<20}{:<10}{}\".format(fstr, out, '=> ' + to_int(out)))\n",
    "    print(\"{:<10}{:^30}\".format('', '|'))\n",
    "\n",
    "    if no: out = negate(out)\n",
    "    nostr = \"no={}\".format(no)\n",
    "    \n",
    "    ng = out[0]\n",
    "    zr = is_zero(out)\n",
    "    \n",
    "    print(\"{:<20}{:<10}{}\".format(nostr, out, '=> ' + to_int(out)))\n",
    "    print(\"{:<10}{:^30}\".format('', '|'))\n",
    "  \n",
    "    print(\"{:<14}{}\".format('', '---------------------'))\n",
    "    print(\"{:<14}{:<10}{:<10}{:<10}\".format('OUTPUT:', '|', '|', '|'))\n",
    "    print(\"{:<14}{:<10}{:<10}{:<10}\".format('ng', ng, '|', '|'))\n",
    "    print(\"{:<14}{:<10}{:<10}{:<10}\".format('', '', '|', '|'))\n",
    "    print(\"{:<14}{:<10}{:<10}{:<10}\".format('zr', '', zr, '|'))\n",
    "    print(\"{:<14}{:<10}{:<10}{:<10}\".format('', '', '', '|'))\n",
    "    print(\"{:<14}{:<10}{:<6}{:<10}{}\".format('f(x, y)', '', '', out, '=> ' + to_int(out)))\n",
    "\n",
    "\n",
    "def to_int(binstr):\n",
    "    if binstr[0] == '1': # negative number\n",
    "        binstr = ''.join('1' if bit == '0' else '0' for bit in binstr)\n",
    "        return str(-(int(binstr, 2) + 1))\n",
    "    else:\n",
    "        return str(int(binstr, 2))\n",
    "\n",
    "def to_str(num):\n",
    "    out = '1' if num < 0 else '0' \n",
    "    out += validate(bin(abs(num))[2:], MAX_BITS-1)\n",
    "    return out\n",
    "\n",
    "def adder(a, b, c):\n",
    "    a, b, c = bool(a), bool(b), bool(c)\n",
    "    s = a ^ b ^ c\n",
    "    c = (c & (a | b)) | (a & b)\n",
    "    return s, c\n",
    "\n",
    "def adder8(x, y):\n",
    "    c = 0\n",
    "    out = list(zero_out(x))\n",
    "    x, y = list(x), list(y)\n",
    "    i = len(x) - 1\n",
    "    while i >= 0:\n",
    "        out[i], c = adder(int(x[i]), int(y[i]), c)\n",
    "        i -= 1\n",
    "    return ''.join([str(int(n)) for n in out])\n",
    "\n",
    "def is_zero(binstr):\n",
    "    for bit in binstr:\n",
    "        if bit != '0':\n",
    "            return False\n",
    "    return True\n",
    "\n",
    "def negate(binstr):\n",
    "    return ''.join([str(int(not bool(int(n)))) for n in list(binstr)])\n",
    "\n",
    "def zero_out(binstr):\n",
    "    return '0' * len(binstr)\n",
    "\n",
    "def validate(binstr, maxbits=MAX_BITS):\n",
    "    zstr = '0' * maxbits\n",
    "    return zstr[len(binstr[:maxbits]):] + binstr[:maxbits]\n",
    "\n",
    "def bitwise_and(a, b):\n",
    "    return ''.join([str(int(m) & int(n)) for m, n in zip(a, b)])\n",
    "\n",
    "assert(validate('1010') == '00001010')\n",
    "assert(validate('10101011101010') == '10101011')\n",
    "assert(zero_out('10111001') == '00000000')\n",
    "assert(negate('0110001') == '1001110')\n",
    "assert(bitwise_and('10001110', '10000011') == '10000010')\n",
    "assert(adder(0, 0, 0) == (0, 0))\n",
    "assert(adder(0, 1, 0) == (1, 0))\n",
    "assert(adder(1, 0, 1) == (0, 1))\n",
    "assert(adder(1, 1, 1) == (1, 1))\n",
    "assert(adder(0, 1, 1) == (0, 1))\n",
    "assert(adder(0, 1, 0) == (1, 0))\n",
    "assert(adder8('00000000', '00001111') == '00001111')\n",
    "assert(adder8('00001100', '01001010') == '01010110')\n",
    "assert(adder8('00000000', '00001111') == '00001111')\n",
    "assert(adder8('11111111', '00000001') == '00000000')\n",
    "assert(is_zero('00000000') == True)\n",
    "assert(is_zero('00001000') == False)"
   ]
  },
  {
   "cell_type": "markdown",
   "id": "6f2dce07",
   "metadata": {},
   "source": [
    "# Simulated Examples\n",
    "Because following the diagram can be a bit tricky, I wrote a little simulator that shows the various transformations that are happening to the inputs. Let's look at a few examples.\n",
    "\n",
    "\n",
    "#### Example 1\n",
    "According to the chart, we should expect `f(x, y)` in this case to be `y - x`:"
   ]
  },
  {
   "cell_type": "code",
   "execution_count": 226,
   "id": "cab04400",
   "metadata": {},
   "outputs": [
    {
     "name": "stdout",
     "output_type": "stream",
     "text": [
      "              x                   y               \n",
      "\n",
      "INPUT:    10010111  => -105   00001010  => 10     \n",
      "              |                   |               \n",
      "zx=0      10010111  => -105       |               \n",
      "              |                   |               \n",
      "nx=0      10010111  => -105       |               \n",
      "              |                   |               \n",
      "zy=0          |               00001010  => 10     \n",
      "              |                   |               \n",
      "ny=1          |               11110101  => -11    \n",
      "              |                   |               \n",
      "              ---------------------\n",
      "                        |               \n",
      "                        |               \n",
      "f: +                10001100  => -116\n",
      "                        |               \n",
      "no=1                01110011  => 115\n",
      "                        |               \n",
      "              ---------------------\n",
      "OUTPUT:       |         |         |         \n",
      "ng            0         |         |         \n",
      "                        |         |         \n",
      "zr                      0         |         \n",
      "                                  |         \n",
      "f(x, y)                       01110011  => 115\n"
     ]
    }
   ],
   "source": [
    "ALU_sim(x='10010111', y='00001010', zx=0, nx=0, zy=0, ny=1, f=1, no=1)"
   ]
  },
  {
   "cell_type": "markdown",
   "id": "c0b79fa1",
   "metadata": {},
   "source": [
    "#### Example 2\n",
    "Here we should expect `f(x, y)` to be `x-y`"
   ]
  },
  {
   "cell_type": "code",
   "execution_count": 230,
   "id": "2ba93635",
   "metadata": {},
   "outputs": [
    {
     "name": "stdout",
     "output_type": "stream",
     "text": [
      "              x                   y               \n",
      "\n",
      "INPUT:    11001011  => -53    00100011  => 35     \n",
      "              |                   |               \n",
      "zx=0      11001011  => -53        |               \n",
      "              |                   |               \n",
      "nx=1      00110100  => 52         |               \n",
      "              |                   |               \n",
      "zy=0          |               00100011  => 35     \n",
      "              |                   |               \n",
      "ny=0          |               00100011  => 35     \n",
      "              |                   |               \n",
      "              ---------------------\n",
      "                        |               \n",
      "                        |               \n",
      "f: +                01010111  => 87\n",
      "                        |               \n",
      "no=1                10101000  => -88\n",
      "                        |               \n",
      "              ---------------------\n",
      "OUTPUT:       |         |         |         \n",
      "ng            1         |         |         \n",
      "                        |         |         \n",
      "zr                      0         |         \n",
      "                                  |         \n",
      "f(x, y)                       10101000  => -88\n"
     ]
    }
   ],
   "source": [
    "ALU_sim(x='11001011', y='00100011', zx=0, nx=1, zy=0, ny=0, f=1, no=1)"
   ]
  },
  {
   "cell_type": "markdown",
   "id": "e5b9ab0e",
   "metadata": {},
   "source": [
    "#### Example 3\n",
    "`f(x, y) = y + 1`:"
   ]
  },
  {
   "cell_type": "code",
   "execution_count": 231,
   "id": "ac6ca0f4",
   "metadata": {},
   "outputs": [
    {
     "name": "stdout",
     "output_type": "stream",
     "text": [
      "              x                   y               \n",
      "\n",
      "INPUT:    11001011  => -53    00100011  => 35     \n",
      "              |                   |               \n",
      "zx=1      00000000  => 0          |               \n",
      "              |                   |               \n",
      "nx=1      11111111  => -1         |               \n",
      "              |                   |               \n",
      "zy=0          |               00100011  => 35     \n",
      "              |                   |               \n",
      "ny=1          |               11011100  => -36    \n",
      "              |                   |               \n",
      "              ---------------------\n",
      "                        |               \n",
      "                        |               \n",
      "f: +                11011011  => -37\n",
      "                        |               \n",
      "no=1                00100100  => 36\n",
      "                        |               \n",
      "              ---------------------\n",
      "OUTPUT:       |         |         |         \n",
      "ng            0         |         |         \n",
      "                        |         |         \n",
      "zr                      0         |         \n",
      "                                  |         \n",
      "f(x, y)                       00100100  => 36\n"
     ]
    }
   ],
   "source": [
    "ALU_sim(x='11001011', y='00100011', zx=1, nx=1, zy=0, ny=1, f=1, no=1)"
   ]
  },
  {
   "cell_type": "markdown",
   "id": "85ca6c3f",
   "metadata": {},
   "source": [
    "#### Example 4\n",
    "`f(x, y) = -x:"
   ]
  },
  {
   "cell_type": "code",
   "execution_count": 232,
   "id": "5b753782",
   "metadata": {
    "scrolled": false
   },
   "outputs": [
    {
     "name": "stdout",
     "output_type": "stream",
     "text": [
      "              x                   y               \n",
      "\n",
      "INPUT:    11000010  => -62    10011100  => -100   \n",
      "              |                   |               \n",
      "zx=0      11000010  => -62        |               \n",
      "              |                   |               \n",
      "nx=0      11000010  => -62        |               \n",
      "              |                   |               \n",
      "zy=1          |               00000000  => 0      \n",
      "              |                   |               \n",
      "ny=1          |               11111111  => -1     \n",
      "              |                   |               \n",
      "              ---------------------\n",
      "                        |               \n",
      "                        |               \n",
      "f: +                11000001  => -63\n",
      "                        |               \n",
      "no=1                00111110  => 62\n",
      "                        |               \n",
      "              ---------------------\n",
      "OUTPUT:       |         |         |         \n",
      "ng            0         |         |         \n",
      "                        |         |         \n",
      "zr                      0         |         \n",
      "                                  |         \n",
      "f(x, y)                       00111110  => 62\n"
     ]
    }
   ],
   "source": [
    "ALU_sim(x='11000010', y='10011100', zx=0, nx=0, zy=1, ny=1, f=1, no=1)"
   ]
  },
  {
   "cell_type": "markdown",
   "id": "f854dc42",
   "metadata": {},
   "source": [
    "#### Example 5\n",
    "`f(x, y) = x | y:"
   ]
  },
  {
   "cell_type": "code",
   "execution_count": 234,
   "id": "ba4b7df4",
   "metadata": {
    "scrolled": false
   },
   "outputs": [
    {
     "name": "stdout",
     "output_type": "stream",
     "text": [
      "              x                   y               \n",
      "\n",
      "INPUT:    11000010  => -62    10011100  => -100   \n",
      "              |                   |               \n",
      "zx=0      11000010  => -62        |               \n",
      "              |                   |               \n",
      "nx=1      00111101  => 61         |               \n",
      "              |                   |               \n",
      "zy=0          |               10011100  => -100   \n",
      "              |                   |               \n",
      "ny=1          |               01100011  => 99     \n",
      "              |                   |               \n",
      "              ---------------------\n",
      "                        |               \n",
      "                        |               \n",
      "f: &                00100001  => 33\n",
      "                        |               \n",
      "no=1                11011110  => -34\n",
      "                        |               \n",
      "              ---------------------\n",
      "OUTPUT:       |         |         |         \n",
      "ng            1         |         |         \n",
      "                        |         |         \n",
      "zr                      0         |         \n",
      "                                  |         \n",
      "f(x, y)                       11011110  => -34\n"
     ]
    }
   ],
   "source": [
    "ALU_sim(x='11000010', y='10011100', zx=0, nx=1, zy=0, ny=1, f=0, no=1)"
   ]
  }
 ],
 "metadata": {
  "kernelspec": {
   "display_name": "Python 3 (ipykernel)",
   "language": "python",
   "name": "python3"
  },
  "language_info": {
   "codemirror_mode": {
    "name": "ipython",
    "version": 3
   },
   "file_extension": ".py",
   "mimetype": "text/x-python",
   "name": "python",
   "nbconvert_exporter": "python",
   "pygments_lexer": "ipython3",
   "version": "3.10.6"
  }
 },
 "nbformat": 4,
 "nbformat_minor": 5
}
